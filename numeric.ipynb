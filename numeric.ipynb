{
 "cells": [
  {
   "cell_type": "markdown",
   "metadata": {
    "ein.tags": "worksheet-0",
    "slideshow": {
     "slide_type": "-"
    }
   },
   "source": [
    "# Numerical Filtering\n",
    "We start with loading the necessary packages.\n",
    "For the correctness of the transformation `T` see the \"Symbolic Notebook\". "
   ]
  },
  {
   "cell_type": "code",
   "execution_count": 1,
   "metadata": {
    "autoscroll": false,
    "ein.hycell": false,
    "ein.tags": "worksheet-0",
    "slideshow": {
     "slide_type": "-"
    }
   },
   "outputs": [],
   "source": [
    "from py_pol import np, degrees\n",
    "from py_pol.mueller import Mueller\n",
    "import matplotlib.pyplot as plt\n",
    "import numpy as np\n",
    "from numpy import linalg as LA\n",
    "import scipy \n",
    "np.set_printoptions(precision=4)"
   ]
  },
  {
   "cell_type": "markdown",
   "metadata": {
    "ein.tags": "worksheet-0",
    "slideshow": {
     "slide_type": "-"
    }
   },
   "source": [
    "We set up the transformation of the Mueller matrix to the Hermitian coherency matrix and vice versa."
   ]
  },
  {
   "cell_type": "code",
   "execution_count": 2,
   "metadata": {
    "autoscroll": false,
    "ein.hycell": false,
    "ein.tags": "worksheet-0",
    "slideshow": {
     "slide_type": "-"
    }
   },
   "outputs": [],
   "source": [
    "I=1.j\n",
    "Tn=1/2*np.array([[1,  0,  0,  0,    0,  1,  0,  0,    0,  0,  1,  0,     0,  0,  0,  1],# first row\n",
    "                 [0,  1,  0,  0,    1,  0,  0,  0,    0,  0,  0, -I,     0,  0,  I,  0],\n",
    "                 [0,  0,  1,  0,    0,  0,  0, -I,    1,  0,  0,  0,     0,  I,  0,  0],\n",
    "                 [0,  0,  0,  1,    0,  0, -I,  0,    0,  I,  0,  0,     1,  0,  0,  0],\n",
    "                 [0,  1,  0,  0,    1,  0,  0,  0,    0,  0,  0,  I,     0,  0, -I,  0],# second row\n",
    "                 [1,  0,  0,  0,    0,  1,  0,  0,    0,  0, -1,  0,     0,  0,  0, -1],\n",
    "                 [0,  0,  0,  I,    0,  0,  1,  0,    0,  1,  0,  0,    -I,  0,  0,  0],\n",
    "                 [0,  0,  I,  0,    0,  0,  0,  1,   -I,  0,  0,  0,     0,  1,  0,  0],\n",
    "                 [0,  0,  1,  0,    0,  0,  0,  I,    1,  0,  0,  0,     0, -I,  0,  0],# third row\n",
    "                 [0,  0,  0, -I,    0,  0,  1,  0,    0,  1,  0,  0,     I,  0,  0,  0],\n",
    "                 [1,  0,  0,  0,    0, -1,  0,  0,    0,  0,  1,  0,     0,  0,  0, -1],\n",
    "                 [0,  I,  0,  0,   -I,  0,  0,  0,    0,  0,  0,  1,     0,  0,  1,  0],\n",
    "                 [0,  0,  0,  1,    0,  0,  I,  0,    0, -I,  0,  0,     1,  0,  0,  0],# fourth row\n",
    "                 [0,  0, -I,  0,    0,  0,  0,  1,    I,  0,  0,  0,     0,  1,  0,  0],\n",
    "                 [0, -I,  0,  0,    I,  0,  0,  0,    0,  0,  0,  1,     0,  0,  1,  0],\n",
    "                 [1,  0,  0,  0,    0, -1,  0,  0,    0,  0, -1,  0,     0,  0,  0,  1]],\n",
    "                dtype=complex)\n",
    "Tinv = LA.inv(Tn)\n",
    "def T(x):\n",
    "    return np.reshape((Tn @ np.reshape(x, (16,1))), (4,4))\n",
    "def invT(x):\n",
    "    return np.reshape((Tinv @ np.reshape(x, (16,1))), (4,4))"
   ]
  },
  {
   "cell_type": "markdown",
   "metadata": {
    "ein.tags": "worksheet-0",
    "slideshow": {
     "slide_type": "-"
    }
   },
   "source": [
    "We are now ready to setup the filter of the measured Mueller matrix.\n",
    "First the generic filter which filters the negative eigenvalues by setting them to zero.\n",
    "This is the filter proposed in <cite data-cite=\"7801282/J65MQUL8\"></cite>."
   ]
  },
  {
   "cell_type": "code",
   "execution_count": 3,
   "metadata": {
    "autoscroll": false,
    "ein.hycell": false,
    "ein.tags": "worksheet-0",
    "slideshow": {
     "slide_type": "-"
    }
   },
   "outputs": [],
   "source": [
    "def GenericFilter(x):\n",
    "    e,v =LA.eigh(T(x))\n",
    "    D=np.diag(np.clip(e,0,None))\n",
    "    return (invT(v @ D @ LA.inv(v))).real"
   ]
  },
  {
   "cell_type": "markdown",
   "metadata": {
    "ein.tags": "worksheet-0",
    "slideshow": {
     "slide_type": "-"
    }
   },
   "source": [
    "If we assumed that our measured Mueller matrices M can be decomposed as a sum of a non-depolarising part and a perfectly depolarising Mueller matrix then we have to define the filter as follows.\n",
    "Note, the second function returns the pair of matrices instead of the sum of them."
   ]
  },
  {
   "cell_type": "code",
   "execution_count": 4,
   "metadata": {
    "autoscroll": false,
    "ein.hycell": false,
    "ein.tags": "worksheet-0",
    "slideshow": {
     "slide_type": "-"
    }
   },
   "outputs": [],
   "source": [
    "def NonPerfectFilter(x):\n",
    "    e,v =LA.eigh(T(x))\n",
    "    d=(e[0]+e[1]+e[2])/3\n",
    "    D=np.diag(np.array([e[3],d,d,d]))\n",
    "    return (invT(v @ D @ LA.inv(v))).real\n",
    "def NonPerfectFilterPair(x):\n",
    "    e,v =LA.eigh(T(x))\n",
    "    d=(e[0]+e[1]+e[2])/3\n",
    "    D1=np.diag(np.array([d,d,d,d]))\n",
    "    D2=np.diag(np.array([e3-d,0,0,0]))\n",
    "    return (invT(v @ D1 @ LA.inv(v))).real, (invT(v @ D1 @ LA.inv(v))).real; "
   ]
  },
  {
   "cell_type": "markdown",
   "metadata": {
    "ein.tags": "worksheet-0",
    "slideshow": {
     "slide_type": "-"
    }
   },
   "source": [
    "Now we want to the preserve the upper left entry of the measured Mueller matrix,\n",
    "e.g. the change in intensity of an unpolarised beam is believed to be measured correctly.\n",
    "For this we need to preserve the value of the sum of all eigenvalues of the coherency matrix. "
   ]
  },
  {
   "cell_type": "code",
   "execution_count": 5,
   "metadata": {
    "autoscroll": false,
    "ein.hycell": false,
    "ein.tags": "worksheet-0",
    "slideshow": {
     "slide_type": "-"
    }
   },
   "outputs": [],
   "source": [
    "def GenericM00eigenFilter(y):\n",
    "    neg_e=np.clip(y,None,0)\n",
    "    neg_e=neg_e[neg_e != 0]\n",
    "    d=0\n",
    "    d=np.sum(neg_e)/(4-np.size(neg_e))\n",
    "    e=y+d\n",
    "    D=np.clip(e,0,None)\n",
    "    # check for newly produced negative\n",
    "    # eigenvalues and filter again if necessary\n",
    "    neg_D=np.clip(D,None,0)\n",
    "    s=np.size((neg_D[neg_D != 0]))\n",
    "    if (s != 0):\n",
    "        D=GenericM00eigenFilter(D)\n",
    "    # done\n",
    "    return D \n",
    "def GenericM00Filter(x):\n",
    "    e,v =LA.eigh(T(x))\n",
    "    D=GenericM00eigenFilter(e)\n",
    "    D=np.diag(D)\n",
    "    return (invT(v @ D @ LA.inv(v))).real"
   ]
  },
  {
   "cell_type": "markdown",
   "metadata": {
    "ein.tags": "worksheet-0",
    "slideshow": {
     "slide_type": "-"
    }
   },
   "source": [
    "Now take some measured Mueller matrices.\n",
    "The matrices `M1`, `M2` and `M3` are the examples used in <cite data-cite=\"7801282/J65MQUL8\"></cite>.\n",
    "The matrices `M4` and `M4filt` are the examples from <cite data-cite=\"7801282/PAZQAYHQ\"></cite>, where `M4filt` is filtered matrix which was obtained in the paper."
   ]
  },
  {
   "cell_type": "code",
   "execution_count": 6,
   "metadata": {
    "autoscroll": false,
    "ein.hycell": false,
    "ein.tags": "worksheet-0",
    "slideshow": {
     "slide_type": "-"
    }
   },
   "outputs": [],
   "source": [
    "M1=np.array([[0.997 ,  0.003 , 0.017, 0.035 ],\n",
    "             [ 0.002 ,  1.000,-0.03, -0.0010],\n",
    "             [0.076, 0.022, 0.091, -1.013],\n",
    "             [0.010, 0.034, 0.976, 0.232]])\n",
    "M2=np.array([[0.8488, -0.0503, 0.0294, 0.0617 ],\n",
    "             [-0.0503,  0.8403, 0.0913, -0.0920],\n",
    "             [0.0294, 0.0913, 0.8277, 0.000],\n",
    "             [0.0617, -0.0920, 0.0, 0.7947]])\n",
    "M3=np.array([[0.8886, -0.0131, 0.0055, 0.0786 ],\n",
    "             [-0.0115,  0.5762,-0.2820, -0.1668],\n",
    "             [0.0048,-0.2809, 0.6825, 0.0026],\n",
    "             [0.0775, -0.1672, 0.0012, 0.8061]])\n",
    "M4=np.array([[0.7599, 0.0295, 0.1185, -0.0623],\n",
    "             [0.0384, 0.5394, 0.0282, -0.1714],\n",
    "             [0.1240, -0.012, 0.6608, 0.2168],\n",
    "             [-0.0573, -0.1811, -0.1863, 0.4687]])\n",
    "M4filt=np.array([[0.7599, 0.0257, 0.1206, -0.0576],\n",
    "                 [0.0372, 0.5285, 0.0001, -0.0496],\n",
    "                 [0.1208, -0.0001, 0.6184, 0.1920],\n",
    "                 [-0.0554, -0.0572, -0.1794, 0.4822]])\n"
   ]
  },
  {
   "cell_type": "markdown",
   "metadata": {
    "ein.tags": "worksheet-0",
    "slideshow": {
     "slide_type": "-"
    }
   },
   "source": [
    "We might wonder how much the optimal filtering,\n",
    "which preserves the upper left element of the measured Mueller matrix,\n",
    "differs from the naive filtering\n",
    "where one first filters the negative eigenvalues and then scales the filtered Mueller matrix. \n",
    "Moreover, as we compare the given filtered `M4filt` to our optimal method.  "
   ]
  },
  {
   "cell_type": "code",
   "execution_count": 7,
   "metadata": {
    "autoscroll": false,
    "ein.hycell": false,
    "ein.tags": "worksheet-0",
    "slideshow": {
     "slide_type": "-"
    }
   },
   "outputs": [
    {
     "name": "stdout",
     "output_type": "stream",
     "text": [
      "0.7993079350944633\n",
      "0.8134560037320727\n",
      "0.9232534431378447\n",
      "0.9110202764866306\n",
      "0.9264795025656261\n"
     ]
    }
   ],
   "source": [
    "print(LA.norm(GenericM00Filter(M1)-M1)/LA.norm(GenericFilter(M1)/GenericFilter(M1)[0,0]*M1[0,0]-M1))\n",
    "print(LA.norm(GenericM00Filter(M2)-M2)/LA.norm(GenericFilter(M2)/GenericFilter(M2)[0,0]*M2[0,0]-M2))\n",
    "print(LA.norm(GenericM00Filter(M3)-M3)/LA.norm(GenericFilter(M3)/GenericFilter(M3)[0,0]*M3[0,0]-M3))\n",
    "print(LA.norm(GenericM00Filter(M4)-M4)/LA.norm(GenericFilter(M4)/GenericFilter(M4)[0,0]*M4[0,0]-M4))\n",
    "print(LA.norm(GenericM00Filter(M4)-M4)/LA.norm(M4filt-M4))"
   ]
  },
  {
   "cell_type": "markdown",
   "metadata": {},
   "source": [
    "Hence in this case the optimal filtering in our examples get us 7 to 20 percent improvements. "
   ]
  },
  {
   "cell_type": "markdown",
   "metadata": {
    "autoscroll": false,
    "ein.hycell": false,
    "ein.tags": "worksheet-0",
    "slideshow": {
     "slide_type": "-"
    }
   },
   "source": [
    "## References\n",
    "<div class=\"cite2c-biblio\"></div>"
   ]
  }
 ],
 "metadata": {
  "cite2c": {
   "citations": {
    "7801282/2NM2DDFJ": {
     "URL": "https://doi.org/10.1201/b19711",
     "author": [
      {
       "family": "Gil",
       "given": "José J."
      },
      {
       "family": "Ossikovski",
       "given": "Razvigor"
      }
     ],
     "issued": {
      "date-parts": [
       [
        "2017",
        7
       ]
      ]
     },
     "note": "DOI: 10.1201/b19711",
     "publisher": "CRC Press",
     "title": "Polarized Light and the Mueller Matrix Approach",
     "type": "book"
    },
    "7801282/6JUBV2ZL": {
     "DOI": "10.1364/AO.18.000809",
     "URL": "http://ao.osa.org/abstract.cfm?URI=ao-18-6-809",
     "abstract": "Accuracy of a radiometer is adversely affected by scene polarization if the receiving optical system is sensitive to polarization. It is therefore necessary to specify and measure the sensitivity of the system to polarized light. The Mueller-Stokes matrix of an instrument may be determined experimentally and used to predict the effects of the instrument on any beam. The specification of a maximum polarization sensitivity stated in terms of the degree of polarization produced in an unpolarized beam can be experimentally verified even though an unpolarized beam is not available in the laboratory for direct measurement.",
     "author": [
      {
       "family": "Howell",
       "given": "Barton J."
      }
     ],
     "container-title": "Appl. Opt.",
     "id": "7801282/6JUBV2ZL",
     "issue": "6",
     "issued": {
      "month": 3,
      "year": 1979
     },
     "note": "Publisher: OSA",
     "page": "809–812",
     "page-first": "809",
     "title": "Measurement of the polarization effects of an instrument using partially polarized light",
     "type": "article-journal",
     "volume": "18"
    },
    "7801282/I56RRXRD": {
     "URL": "https://ci.nii.ac.jp/naid/80003397049/en/",
     "author": [
      {
       "family": "CLOUDE",
       "given": "S. R."
      }
     ],
     "container-title": "OPTIK",
     "id": "7801282/I56RRXRD",
     "issue": "1",
     "issued": {
      "year": 1986
     },
     "page": "26-36",
     "page-first": "26",
     "title": "Group theory and polarization algebra",
     "type": "article-journal",
     "volume": "75"
    },
    "7801282/J65MQUL8": {
     "DOI": "10.1117/12.962889",
     "URL": "https://doi.org/10.1117/12.962889",
     "abstract": "In this paper we derive the constraints imposed on an arbitrary 4x4 real matrix such that it correspond to a physically realisable Mueller matrix M. These constraints are important, in practice, when M is derived from experimental measurements. Under such circumstances the measured matrix may be filtered to yield two components, one of which is physically realisable plus a nonphysical remainder term. By comparing the relative magnitudes of these two, we obtain a quantitative measure of system fidelity. In the course of this development, we outline two new matrix descriptors of polarised scattering, the system covariance and coherency matrices. These 4x4 Hermitian operators are linearly related to X but yield better physical insight into the scattering phenomena causing depolarisation. We illustrate by reference to rough surface scattering under physical optics.",
     "author": [
      {
       "family": "Cloude",
       "given": "Shane R."
      }
     ],
     "container-title": "Polarization Considerations for Optical Systems II",
     "editor": [
      {
       "family": "Chipman",
       "given": "Russell A."
      }
     ],
     "id": "7801282/J65MQUL8",
     "issued": {
      "year": 1990
     },
     "note": "Backup Publisher: International Society for Optics and Photonics",
     "page": "177 – 187",
     "page-first": "177",
     "publisher": "SPIE",
     "title": "Conditions For The Physical Realisability Of Matrix Operators In Polarimetry",
     "type": "paper-conference",
     "volume": "1166"
    },
    "7801282/PAZQAYHQ": {
     "author": [
      {
       "family": "Aiello",
       "given": "A"
      },
      {
       "family": "Puentes",
       "given": "G"
      },
      {
       "family": "Voigt",
       "given": "D"
      },
      {
       "family": "Woerdman",
       "given": "JP"
      }
     ],
     "container-title": "Optics letters",
     "id": "7801282/PAZQAYHQ",
     "issue": "6",
     "issued": {
      "year": 2006
     },
     "note": "Publisher: Optical Society of America",
     "page": "817–819",
     "page-first": "817",
     "title": "Maximum-likelihood estimation of Mueller matrices",
     "type": "article-journal",
     "volume": "31"
    },
    "undefined": {
     "DOI": "10.1117/12.962889",
     "URL": "https://doi.org/10.1117/12.962889",
     "abstract": "In this paper we derive the constraints imposed on an arbitrary 4x4 real matrix such that it correspond to a physically realisable Mueller matrix M. These constraints are important, in practice, when M is derived from experimental measurements. Under such circumstances the measured matrix may be filtered to yield two components, one of which is physically realisable plus a nonphysical remainder term. By comparing the relative magnitudes of these two, we obtain a quantitative measure of system fidelity. In the course of this development, we outline two new matrix descriptors of polarised scattering, the system covariance and coherency matrices. These 4x4 Hermitian operators are linearly related to X but yield better physical insight into the scattering phenomena causing depolarisation. We illustrate by reference to rough surface scattering under physical optics.",
     "author": [
      {
       "family": "Cloude",
       "given": "Shane R."
      }
     ],
     "container-title": "Polarization Considerations for Optical Systems II",
     "editor": [
      {
       "family": "Chipman",
       "given": "Russell A."
      }
     ],
     "id": "7801282/J65MQUL8",
     "issued": {
      "year": 1990
     },
     "note": "Backup Publisher: International Society for Optics and Photonics",
     "page": "177 – 187",
     "page-first": "177",
     "publisher": "SPIE",
     "title": "Conditions For The Physical Realisability Of Matrix Operators In Polarimetry",
     "type": "paper-conference",
     "volume": "1166"
    }
   }
  },
  "kernelspec": {
   "display_name": "Python 3",
   "language": "python",
   "name": "python3"
  },
  "language_info": {
   "codemirror_mode": {
    "name": "ipython",
    "version": 3
   },
   "file_extension": ".py",
   "mimetype": "text/x-python",
   "name": "python",
   "nbconvert_exporter": "python",
   "pygments_lexer": "ipython3",
   "version": "3.6.9"
  },
  "name": "foo.ipynb"
 },
 "nbformat": 4,
 "nbformat_minor": 2
}
