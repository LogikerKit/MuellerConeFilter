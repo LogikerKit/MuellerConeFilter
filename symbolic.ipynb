{
 "cells": [
  {
   "cell_type": "markdown",
   "metadata": {
    "ein.tags": "worksheet-0",
    "slideshow": {
     "slide_type": "-"
    }
   },
   "source": [
    "# Symbolic Filtering\n",
    "This notebook contains the symbolic computations left out in *(Zander et al 2020)*. First we load the necessary packages."
   ]
  },
  {
   "cell_type": "code",
   "execution_count": 1,
   "metadata": {
    "autoscroll": false,
    "ein.hycell": false,
    "ein.tags": "worksheet-0",
    "slideshow": {
     "slide_type": "-"
    }
   },
   "outputs": [],
   "source": [
    "from sympy import *\n",
    "from sympy.physics.quantum.dagger import Dagger\n",
    "#from sympy.matrices import Matrix, PermutationMatrix\n",
    "#from sympy.combinatorics import Permutation\n",
    "#import itertools"
   ]
  },
  {
   "cell_type": "markdown",
   "metadata": {
    "ein.tags": "worksheet-0",
    "slideshow": {
     "slide_type": "-"
    }
   },
   "source": [
    "## Isometry of the ambient space\n",
    "We now will define the transformation from the Mueller matrix space to the Hermitian matrix space.\n",
    "This transformation is taken from Theorem A.1 of *(Van Der Mee 1993)*. \n",
    "We also compute the eigenvalues of this transformation."
   ]
  },
  {
   "cell_type": "code",
   "execution_count": 2,
   "metadata": {
    "autoscroll": false,
    "ein.hycell": false,
    "ein.tags": "worksheet-0",
    "slideshow": {
     "slide_type": "-"
    }
   },
   "outputs": [
    {
     "data": {
      "text/plain": [
       "{-1: 4, 1: 12}"
      ]
     },
     "execution_count": 2,
     "metadata": {},
     "output_type": "execute_result"
    }
   ],
   "source": [
    "Ttr = Matrix([[1,  0,  0,  0,    0,  1,  0,  0,    0,  0,  1,  0,     0,  0,  0,  1],# first row\n",
    "              [0,  1,  0,  0,    1,  0,  0,  0,    0,  0,  0, -I,     0,  0,  I,  0],\n",
    "              [0,  0,  1,  0,    0,  0,  0, -I,    1,  0,  0,  0,     0,  I,  0,  0],\n",
    "              [0,  0,  0,  1,    0,  0, -I,  0,    0,  I,  0,  0,     1,  0,  0,  0],\n",
    "              [0,  1,  0,  0,    1,  0,  0,  0,    0,  0,  0,  I,     0,  0, -I,  0],# second row\n",
    "              [1,  0,  0,  0,    0,  1,  0,  0,    0,  0, -1,  0,     0,  0,  0, -1],\n",
    "              [0,  0,  0,  I,    0,  0,  1,  0,    0,  1,  0,  0,    -I,  0,  0,  0],\n",
    "              [0,  0,  I,  0,    0,  0,  0,  1,   -I,  0,  0,  0,     0,  1,  0,  0],\n",
    "              [0,  0,  1,  0,    0,  0,  0,  I,    1,  0,  0,  0,     0, -I,  0,  0],# third row\n",
    "              [0,  0,  0, -I,    0,  0,  1,  0,    0,  1,  0,  0,     I,  0,  0,  0],\n",
    "              [1,  0,  0,  0,    0, -1,  0,  0,    0,  0,  1,  0,     0,  0,  0, -1],\n",
    "              [0,  I,  0,  0,   -I,  0,  0,  0,    0,  0,  0,  1,     0,  0,  1,  0],\n",
    "              [0,  0,  0,  1,    0,  0,  I,  0,    0, -I,  0,  0,     1,  0,  0,  0],# fourth row\n",
    "              [0,  0, -I,  0,    0,  0,  0,  1,    I,  0,  0,  0,     0,  1,  0,  0],\n",
    "              [0, -I,  0,  0,    I,  0,  0,  0,    0,  0,  0,  1,     0,  0,  1,  0],\n",
    "              [1,  0,  0,  0,    0, -1,  0,  0,    0,  0, -1,  0,     0,  0,  0,  1]])\n",
    "T=1/2*Ttr\n",
    "Tinv=T.inv()\n",
    "T.eigenvals()"
   ]
  },
  {
   "cell_type": "markdown",
   "metadata": {
    "ein.tags": "worksheet-0",
    "slideshow": {
     "slide_type": "-"
    }
   },
   "source": [
    "Of course, this eigenvalues give us that the linear map `T` is unitary.\n",
    "Alternatively, the following also shows that `T` is unitary."
   ]
  },
  {
   "cell_type": "code",
   "execution_count": 3,
   "metadata": {
    "autoscroll": false,
    "ein.hycell": false,
    "ein.tags": "worksheet-0",
    "slideshow": {
     "slide_type": "-"
    }
   },
   "outputs": [
    {
     "data": {
      "text/plain": [
       "True"
      ]
     },
     "execution_count": 3,
     "metadata": {},
     "output_type": "execute_result"
    }
   ],
   "source": [
    "T*Dagger(T) == Dagger(T)*T == eye(16)"
   ]
  },
  {
   "cell_type": "markdown",
   "metadata": {
    "ein.tags": "worksheet-0",
    "slideshow": {
     "slide_type": "-"
    }
   },
   "source": [
    "In order to apply `T` and its inverse to $4\\times 4$ matrices\n",
    "we need to transform matrices to vectors and vice versa.\n",
    "Hence with the following functions we can now conveniently handle matrices natively."
   ]
  },
  {
   "cell_type": "code",
   "execution_count": 4,
   "metadata": {
    "autoscroll": false,
    "ein.hycell": false,
    "ein.tags": "worksheet-0",
    "slideshow": {
     "slide_type": "-"
    }
   },
   "outputs": [],
   "source": [
    "def T0(x):\n",
    "    return Matrix(4, 4, Ttr * Matrix(16, 1, x))\n",
    "def T(x):\n",
    "    return 1/2*T0(x)\n",
    "def invT(x):\n",
    "    return Matrix(4, 4, Tinv * Matrix(16, 1, x))\n",
    "def invT0(x):\n",
    "    return 2 * invT(x)"
   ]
  },
  {
   "cell_type": "markdown",
   "metadata": {
    "ein.tags": "worksheet-0",
    "slideshow": {
     "slide_type": "-"
    }
   },
   "source": [
    "The reader might find it very burdensome to check that\n",
    "the matrix `T` actually gives the same linear map as the one given in Theorem A.1 of *(Van Der Mee 1993)*.\n",
    "For that we define a symbolic Mueller matrix and apply our transformations\n",
    "to get some convient presentation of `T`."
   ]
  },
  {
   "cell_type": "code",
   "execution_count": 5,
   "metadata": {
    "autoscroll": false,
    "ein.hycell": false,
    "ein.tags": "worksheet-0",
    "slideshow": {
     "slide_type": "-"
    }
   },
   "outputs": [
    {
     "data": {
      "text/latex": [
       "$\\displaystyle \\left[\\begin{matrix}m_{11} + m_{22} + m_{33} + m_{44} & m_{12} + m_{21} - i m_{34} + i m_{43} & m_{13} - i m_{24} + m_{31} + i m_{42} & m_{14} - i m_{23} + i m_{32} + m_{41}\\\\m_{12} + m_{21} + i m_{34} - i m_{43} & m_{11} + m_{22} - m_{33} - m_{44} & i m_{14} + m_{23} + m_{32} - i m_{41} & i m_{13} + m_{24} - i m_{31} + m_{42}\\\\m_{13} + i m_{24} + m_{31} - i m_{42} & - i m_{14} + m_{23} + m_{32} + i m_{41} & m_{11} - m_{22} + m_{33} - m_{44} & i m_{12} - i m_{21} + m_{34} + m_{43}\\\\m_{14} + i m_{23} - i m_{32} + m_{41} & - i m_{13} + m_{24} + i m_{31} + m_{42} & - i m_{12} + i m_{21} + m_{34} + m_{43} & m_{11} - m_{22} - m_{33} + m_{44}\\end{matrix}\\right]$"
      ],
      "text/plain": [
       "Matrix([\n",
       "[    m11 + m22 + m33 + m44,  m12 + m21 - I*m34 + I*m43,  m13 - I*m24 + m31 + I*m42, m14 - I*m23 + I*m32 + m41],\n",
       "[m12 + m21 + I*m34 - I*m43,      m11 + m22 - m33 - m44,  I*m14 + m23 + m32 - I*m41, I*m13 + m24 - I*m31 + m42],\n",
       "[m13 + I*m24 + m31 - I*m42, -I*m14 + m23 + m32 + I*m41,      m11 - m22 + m33 - m44, I*m12 - I*m21 + m34 + m43],\n",
       "[m14 + I*m23 - I*m32 + m41, -I*m13 + m24 + I*m31 + m42, -I*m12 + I*m21 + m34 + m43,     m11 - m22 - m33 + m44]])"
      ]
     },
     "execution_count": 5,
     "metadata": {},
     "output_type": "execute_result"
    }
   ],
   "source": [
    "m11, m12, m13, m14, m21, m22, m23, m24, m31, m32, m33, m34, m41, m42, m43, m44 = symbols('m11, m12, m13, m14, m21, m22, m23, m24,  m31, m32, m33, m34, m41, m42, m43, m44', real=True)\n",
    "h11, h12, h13, h14, h21, h22, h23, h24, h31, h32, h33, h34, h41, h42, h43, h44 = symbols('h11, h12, h13, h14, h21, h22, h23, h24,  h31, h32, h33, h34, h41, h42, h43, h44')\n",
    "M=Matrix([[m11, m12, m13, m14],\n",
    "          [m21, m22, m23, m24],\n",
    "          [m31, m32, m33, m34],\n",
    "          [m41, m42, m43, m44]])\n",
    "T0(M)"
   ]
  },
  {
   "cell_type": "markdown",
   "metadata": {},
   "source": [
    "The same can be done for the inverse of `T`."
   ]
  },
  {
   "cell_type": "code",
   "execution_count": 6,
   "metadata": {},
   "outputs": [
    {
     "data": {
      "text/latex": [
       "$\\displaystyle \\left[\\begin{matrix}h_{11} + h_{22} + h_{33} + h_{44} & h_{12} + h_{21} - 1.0 i h_{34} + i h_{43} & h_{13} - 1.0 i h_{24} + h_{31} + i h_{42} & h_{14} - 1.0 i h_{23} + i h_{32} + h_{41}\\\\h_{12} + h_{21} + i h_{34} - 1.0 i h_{43} & h_{11} + h_{22} - 1.0 h_{33} - 1.0 h_{44} & i h_{14} + h_{23} + h_{32} - 1.0 i h_{41} & i h_{13} + h_{24} - 1.0 i h_{31} + h_{42}\\\\h_{13} + i h_{24} + h_{31} - 1.0 i h_{42} & - 1.0 i h_{14} + h_{23} + h_{32} + i h_{41} & h_{11} - 1.0 h_{22} + h_{33} - 1.0 h_{44} & i h_{12} - 1.0 i h_{21} + h_{34} + h_{43}\\\\h_{14} + i h_{23} - 1.0 i h_{32} + h_{41} & - 1.0 i h_{13} + h_{24} + i h_{31} + h_{42} & - 1.0 i h_{12} + i h_{21} + h_{34} + h_{43} & h_{11} - 1.0 h_{22} - 1.0 h_{33} + h_{44}\\end{matrix}\\right]$"
      ],
      "text/plain": [
       "Matrix([\n",
       "[        h11 + h22 + h33 + h44,  h12 + h21 - 1.0*I*h34 + I*h43,  h13 - 1.0*I*h24 + h31 + I*h42, h14 - 1.0*I*h23 + I*h32 + h41],\n",
       "[h12 + h21 + I*h34 - 1.0*I*h43,  h11 + h22 - 1.0*h33 - 1.0*h44,  I*h14 + h23 + h32 - 1.0*I*h41, I*h13 + h24 - 1.0*I*h31 + h42],\n",
       "[h13 + I*h24 + h31 - 1.0*I*h42, -1.0*I*h14 + h23 + h32 + I*h41,  h11 - 1.0*h22 + h33 - 1.0*h44, I*h12 - 1.0*I*h21 + h34 + h43],\n",
       "[h14 + I*h23 - 1.0*I*h32 + h41, -1.0*I*h13 + h24 + I*h31 + h42, -1.0*I*h12 + I*h21 + h34 + h43, h11 - 1.0*h22 - 1.0*h33 + h44]])"
      ]
     },
     "execution_count": 6,
     "metadata": {},
     "output_type": "execute_result"
    }
   ],
   "source": [
    "H=Matrix([[h11, h12, h13, h14],\n",
    "          [h21, h22, h23, h24],\n",
    "          [h31, h32, h33, h34],\n",
    "          [h41, h42, h43, h44]])\n",
    "invT0(H)"
   ]
  },
  {
   "cell_type": "markdown",
   "metadata": {
    "ein.tags": "worksheet-0",
    "slideshow": {
     "slide_type": "-"
    }
   },
   "source": [
    "## Geometry of the Mueller matrix cone\n",
    "These are the complimentary computation to the last section before the conclusions.\n",
    "We start be setting up symbolic matrices which belong to the real manifold $C_{4k}$ with $1\\le k\\le 4$ in order to compute the map $F$ symbolically as both defined in *(Zander et al 2020)*. "
   ]
  },
  {
   "cell_type": "code",
   "execution_count": 7,
   "metadata": {
    "autoscroll": false,
    "ein.hycell": false,
    "ein.tags": "worksheet-0",
    "slideshow": {
     "slide_type": "-"
    }
   },
   "outputs": [],
   "source": [
    "a0, a1, a2, a3, a4, a5, a6, a7, a8, a9, a10, a11, a12, a13, a14, a15, a16, a17, a18, a19, a20, a21, a22, a23, a24, a25, a26, a27, a28, a29, a30, a31 =symbols('a0:32', real=True)\n",
    "L1= Matrix([[a0 + I*a1, a2 + I*a3, a4 + I*a5, a6 + I*a7],\n",
    "            [0,0,0,0],\n",
    "            [0,0,0,0],\n",
    "            [0,0,0,0]]).T\n",
    "L2= Matrix([[a0 + I*a1, a2 + I*a3, a4 + I*a5, a6 + I*a7],\n",
    "            [a8 + I*a9, a10+ I*a11,a12+ I*a13,a14+ I*a15],\n",
    "            [0,0,0,0],\n",
    "            [0,0,0,0]]).T\n",
    "L3= Matrix([[a0 + I*a1, a2 + I*a3, a4 + I*a5, a6 + I*a7],\n",
    "            [a8 + I*a9, a10+ I*a11,a12+ I*a13,a14+ I*a15],\n",
    "            [a16+ I*a17,a18+ I*a19,a20+ I*a21,a22+ I*a23],\n",
    "            [0,0,0,0]]).T\n",
    "L4= Matrix([[a0 + I*a1, a2 + I*a3, a4 + I*a5, a6 + I*a7],\n",
    "            [a8 + I*a9, a10+ I*a11,a12+ I*a13,a14+ I*a15],\n",
    "            [a16+ I*a17,a18+ I*a19,a20+ I*a21,a22+ I*a23],\n",
    "            [a24+ I*a25,a26+ I*a27,a28+ I*a29,a30+ I*a31]]).T"
   ]
  },
  {
   "cell_type": "markdown",
   "metadata": {
    "ein.tags": "worksheet-0",
    "slideshow": {
     "slide_type": "-"
    }
   },
   "source": [
    "We now compute the image under $F$ of these matrices and check that the polynomial equations in the resulting symbolic Mueller matrix are homogenous. "
   ]
  },
  {
   "cell_type": "code",
   "execution_count": 8,
   "metadata": {
    "autoscroll": false,
    "ein.hycell": false,
    "ein.tags": "worksheet-0",
    "slideshow": {
     "slide_type": "-"
    }
   },
   "outputs": [
    {
     "data": {
      "text/plain": [
       "True"
      ]
     },
     "execution_count": 8,
     "metadata": {},
     "output_type": "execute_result"
    }
   ],
   "source": [
    "M1=expand(invT(L1*Dagger(L1)))\n",
    "M2=expand(invT(L2*Dagger(L2)))\n",
    "M3=expand(invT(L3*Dagger(L3)))\n",
    "M4=expand(invT(L4*Dagger(L4)))\n",
    "def checkHomogenous(m):\n",
    "    return all([x.is_homogeneous for x in map(poly, m)])\n",
    "all([checkHomogenous(M1), checkHomogenous(M2), checkHomogenous(M3), checkHomogenous(M4)])"
   ]
  },
  {
   "cell_type": "markdown",
   "metadata": {
    "ein.tags": "worksheet-0",
    "slideshow": {
     "slide_type": "-"
    }
   },
   "source": [
    "Of course, because of the computation $LL^{\\dagger}$ and the linear character of the map $T$  the resulting polynomials are quadratic. But we can also easily check it directly."
   ]
  },
  {
   "cell_type": "code",
   "execution_count": 9,
   "metadata": {
    "autoscroll": false,
    "ein.hycell": false,
    "ein.tags": "worksheet-0",
    "slideshow": {
     "slide_type": "-"
    }
   },
   "outputs": [
    {
     "data": {
      "text/plain": [
       "[[2, 2, 2, 2, 2, 2, 2, 2, 2, 2, 2, 2, 2, 2, 2, 2],\n",
       " [2, 2, 2, 2, 2, 2, 2, 2, 2, 2, 2, 2, 2, 2, 2, 2],\n",
       " [2, 2, 2, 2, 2, 2, 2, 2, 2, 2, 2, 2, 2, 2, 2, 2],\n",
       " [2, 2, 2, 2, 2, 2, 2, 2, 2, 2, 2, 2, 2, 2, 2, 2]]"
      ]
     },
     "execution_count": 9,
     "metadata": {},
     "output_type": "execute_result"
    }
   ],
   "source": [
    "def homogenousOrder(m):\n",
    "    return [x.homogeneous_order() for x in map(poly, m)]\n",
    "[homogenousOrder(M1), homogenousOrder(M2), homogenousOrder(M3), homogenousOrder(M4)]"
   ]
  },
  {
   "cell_type": "markdown",
   "metadata": {
    "ein.tags": "worksheet-0",
    "slideshow": {
     "slide_type": "-"
    }
   },
   "source": [
    "Another interesting following observation is that the upper left element of the Mueller matrix is the same as the quadratic Euclidean length of its corresponding element in $C_{4k}$."
   ]
  },
  {
   "cell_type": "code",
   "execution_count": 10,
   "metadata": {
    "autoscroll": false,
    "ein.hycell": false,
    "ein.tags": "worksheet-0",
    "slideshow": {
     "slide_type": "-"
    }
   },
   "outputs": [
    {
     "data": {
      "text/latex": [
       "$\\displaystyle 0.5 a_{0}^{2} + 0.5 a_{1}^{2} + 0.5 a_{10}^{2} + 0.5 a_{11}^{2} + 0.5 a_{12}^{2} + 0.5 a_{13}^{2} + 0.5 a_{14}^{2} + 0.5 a_{15}^{2} + 0.5 a_{16}^{2} + 0.5 a_{17}^{2} + 0.5 a_{18}^{2} + 0.5 a_{19}^{2} + 0.5 a_{2}^{2} + 0.5 a_{20}^{2} + 0.5 a_{21}^{2} + 0.5 a_{22}^{2} + 0.5 a_{23}^{2} + 0.5 a_{24}^{2} + 0.5 a_{25}^{2} + 0.5 a_{26}^{2} + 0.5 a_{27}^{2} + 0.5 a_{28}^{2} + 0.5 a_{29}^{2} + 0.5 a_{3}^{2} + 0.5 a_{30}^{2} + 0.5 a_{31}^{2} + 0.5 a_{4}^{2} + 0.5 a_{5}^{2} + 0.5 a_{6}^{2} + 0.5 a_{7}^{2} + 0.5 a_{8}^{2} + 0.5 a_{9}^{2}$"
      ],
      "text/plain": [
       "0.5*a0**2 + 0.5*a1**2 + 0.5*a10**2 + 0.5*a11**2 + 0.5*a12**2 + 0.5*a13**2 + 0.5*a14**2 + 0.5*a15**2 + 0.5*a16**2 + 0.5*a17**2 + 0.5*a18**2 + 0.5*a19**2 + 0.5*a2**2 + 0.5*a20**2 + 0.5*a21**2 + 0.5*a22**2 + 0.5*a23**2 + 0.5*a24**2 + 0.5*a25**2 + 0.5*a26**2 + 0.5*a27**2 + 0.5*a28**2 + 0.5*a29**2 + 0.5*a3**2 + 0.5*a30**2 + 0.5*a31**2 + 0.5*a4**2 + 0.5*a5**2 + 0.5*a6**2 + 0.5*a7**2 + 0.5*a8**2 + 0.5*a9**2"
      ]
     },
     "execution_count": 10,
     "metadata": {},
     "output_type": "execute_result"
    }
   ],
   "source": [
    "M4[0,0]"
   ]
  },
  {
   "cell_type": "markdown",
   "metadata": {
    "ein.tags": "worksheet-0",
    "slideshow": {
     "slide_type": "-"
    }
   },
   "source": [
    "For completeness we state a unique form of the element in the matrix $C_{44}/{U}(k)$. Also we state one which has at most finitely many representations namely the ones of $C_{4k}/{U}(k)$ for $k\\le 3$.\n",
    "Note that we have to assume that the elements `a0, a10, a20, a30` are strictly positive. \n",
    "To get the corresponding Mueller matrices in case of `L5` we just have to do same as above (see `M5`).\n",
    "For the Matrices `L6, L7, L8` we need to conjugate $LL^{\\dagger}$ by a permutation matrix according to Lemma 1 of *(Higham 1990)*.\n",
    "We leave this computation out for now. \n",
    "But we plan to do it soon, as conveniently\n",
    "in the oncoming [1.6 Release of Sympy](https://github.com/sympy/sympy/wiki/Release-Notes-for-1.6) the permutation matrices will be included natively."
   ]
  },
  {
   "cell_type": "code",
   "execution_count": 11,
   "metadata": {
    "autoscroll": false,
    "ein.hycell": false,
    "ein.tags": "worksheet-0",
    "slideshow": {
     "slide_type": "-"
    }
   },
   "outputs": [],
   "source": [
    "L5= Matrix([[a0 ,0,0,0],\n",
    "            [a8+I*a9, a10,0,0],\n",
    "            [a16+ I*a17,a18+ I*a19,a20,0],\n",
    "            [a24+ I*a25,a26+ I*a27,a28+ I*a29,a30]]).T\n",
    "L6= Matrix([[0,0,0,0],\n",
    "            [a8+I*a9, a10,0,0],\n",
    "            [a16+ I*a17,a18+ I*a19,a20,0],\n",
    "            [a24+ I*a25,a26+ I*a27,a28+ I*a29,a30]]).T\n",
    "L7= Matrix([[0,0,0,0],\n",
    "            [0,0,0,0],\n",
    "            [a16+ I*a17,a18+ I*a19,a20,0],\n",
    "            [a24+ I*a25,a26+ I*a27,a28+ I*a29,a30]]).T\n",
    "L8= Matrix([[0,0,0,0],\n",
    "            [0,0,0,0],\n",
    "            [0,0,0,0],\n",
    "            [a24+ I*a25,a26+ I*a27,a28+ I*a29,a30]]).T\n",
    "M5=expand(invT(L5*Dagger(L5)))\n",
    "#def ListPermuationMatrices(x):\n",
    "#    y=map(lambda x: PermutationMatrix(Permutation(x)),\n",
    "#            list(itertools.permutations(list(range(x)))))\n",
    "#    return [z.as_explicit() for z in y]\n",
    "#M6=[expand(invT(x*L6*Dagger(L6)*x.T)) for x in ListPermuationMatrices(4)]"
   ]
  },
  {
   "cell_type": "markdown",
   "metadata": {},
   "source": [
    "## References\n",
    "\n",
    "Higham, Nicholas J. 1990. “Analysis of the Cholesky Decomposition of a Semi-Definite Matrix.” In Reliable Numerical Computation, 161–85. Oxford Sci. Publ. Oxford Univ. Press, New York.\n",
    "\n",
    "Van Der Mee, CVM. 1993. “An Eigenvalue Criterion for Matrices Transforming Stokes Parameters.” Journal of Mathematical Physics 34 (11): 5072–88.\n",
    "\n",
    "Zander, T and J Beyerer. 2020. “The Mueller matrix cone and its application to filtering.” to appear"
   ]
  },
  {
   "cell_type": "code",
   "execution_count": null,
   "metadata": {},
   "outputs": [],
   "source": []
  }
 ],
 "metadata": {
  "cite2c": {
   "citations": {
    "7801282/CKHEEILG": {
     "author": [
      {
       "family": "Higham",
       "given": "Nicholas J."
      }
     ],
     "collection-title": "Oxford Sci. Publ.",
     "container-title": "Reliable numerical computation",
     "id": "7801282/CKHEEILG",
     "issued": {
      "year": 1990
     },
     "note": "MR: 1098323",
     "page": "161–185",
     "page-first": "161",
     "publisher": "Oxford Univ. Press, New York",
     "title": "Analysis of the Cholesky decomposition of a semi-definite matrix",
     "type": "chapter"
    },
    "7801282/KBJ8AJSC": {
     "author": [
      {
       "family": "Higham",
       "given": "Nicholas J"
      }
     ],
     "issued": {
      "date-parts": [
       [
        1990
       ]
      ]
     },
     "publisher": "Oxford University Press",
     "title": "Analysis of the Cholesky decomposition of a semi-definite matrix",
     "type": "book"
    },
    "7801282/Q74QMPM7": {
     "author": [
      {
       "family": "Zander",
       "given": "Tim"
      },
      {
       "family": "Beyerer",
       "given": "Jürgen"
      }
     ],
     "id": "7801282/Q74QMPM7",
     "issued": {
      "year": 2020
     },
     "note": "_eprint: 1910.12653",
     "title": "The Mueller matrix cone and its application to filtering",
     "type": "article"
    },
    "7801282/W6AVQID3": {
     "author": [
      {
       "family": "Van Der Mee",
       "given": "CVM"
      }
     ],
     "container-title": "Journal of mathematical physics",
     "id": "7801282/W6AVQID3",
     "issue": "11",
     "issued": {
      "year": 1993
     },
     "note": "Publisher: AIP",
     "page": "5072–5088",
     "page-first": "5072",
     "title": "An eigenvalue criterion for matrices transforming Stokes parameters",
     "type": "article-journal",
     "volume": "34"
    },
    "undefined": {
     "author": [
      {
       "family": "Van Der Mee",
       "given": "CVM"
      }
     ],
     "container-title": "Journal of mathematical physics",
     "id": "7801282/W6AVQID3",
     "issue": "11",
     "issued": {
      "year": 1993
     },
     "note": "Publisher: AIP",
     "page": "5072–5088",
     "page-first": "5072",
     "title": "An eigenvalue criterion for matrices transforming Stokes parameters",
     "type": "article-journal",
     "volume": "34"
    }
   }
  },
  "kernelspec": {
   "display_name": "Python 3",
   "language": "python",
   "name": "python3"
  },
  "language_info": {
   "codemirror_mode": {
    "name": "ipython",
    "version": 3
   },
   "file_extension": ".py",
   "mimetype": "text/x-python",
   "name": "python",
   "nbconvert_exporter": "python",
   "pygments_lexer": "ipython3",
   "version": "3.8.2"
  },
  "name": "Calculations.ipynb"
 },
 "nbformat": 4,
 "nbformat_minor": 2
}
